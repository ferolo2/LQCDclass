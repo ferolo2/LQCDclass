{
 "cells": [
  {
   "cell_type": "markdown",
   "id": "5136dae0",
   "metadata": {},
   "source": [
    "# Lecture 2: phi4 theory in 2D\n",
    "\n",
    "Using material from https://arxiv.org/pdf/2101.08176 "
   ]
  },
  {
   "cell_type": "markdown",
   "id": "093f2566",
   "metadata": {},
   "source": [
    "In this lecture, we will study a simple real scalar theory in two space-time dimensions. This example will hopefully give you some insight in how lattice QCD calculations are done. \n",
    "\n",
    "The goal is to generate configurations using the Metropolis-Hastings algorithm and evaluate the phase structure of the theory."
   ]
  },
  {
   "cell_type": "code",
   "execution_count": 65,
   "id": "7de81632",
   "metadata": {},
   "outputs": [],
   "source": [
    "import numpy as np\n",
    "import matplotlib.pyplot as plt"
   ]
  },
  {
   "cell_type": "markdown",
   "id": "4ffed99f",
   "metadata": {},
   "source": [
    "We define the action as:\n",
    "\\begin{equation}\n",
    "\\begin{split}\n",
    "S^E_{\\text{cont}}[\\phi] &= \\int d^2\\vec{x} ~ (\\partial_\\mu \\phi(\\vec{x}))^2 + m^2 \\phi(\\vec{x})^2 + \\lambda \\phi(\\vec{x})^4 \\\\\n",
    "\\rightarrow S^E_{\\text{latt}}(\\phi) &= \\sum_{\\vec{n}} \\phi(\\vec{n}) \\left[ \\sum_{\\mu \\in \\{1,2\\}} 2\\phi(\\vec{n}) - \\phi(\\vec{n}+\\hat{\\mu}) - \\phi(\\vec{n}-\\hat{\\mu}) \\right] + m^2 \\phi(\\vec{n})^2 + \\lambda \\phi(\\vec{n})^4\n",
    "\\end{split}\n",
    "\\end{equation}"
   ]
  },
  {
   "cell_type": "code",
   "execution_count": 33,
   "id": "07158fd1",
   "metadata": {},
   "outputs": [],
   "source": [
    "def action(config,  M2, lam):\n",
    "    action_density = M2*config**2 + lam*config**4\n",
    "    for mu in range(2):\n",
    "        action_density += 2*config**2\n",
    "        action_density -= config*np.roll(config, -1, mu)\n",
    "        action_density -= config*np.roll(config, 1, mu)\n",
    "    return np.sum(action_density, axis=(0,1))\n",
    "    \n",
    "    \n",
    "def next_porposal(config):    \n",
    "    L1, L2 = config.shape\n",
    "    delta = 2*np.random.rand( L1, L2 ) - 1 #random number between -1 and 1 with the shape of the lattice\n",
    "    width = 0.05\n",
    "    return config + width*delta\n",
    "\n",
    "\n",
    "\n",
    "\n",
    "def metropolis_step(x_in, M2, lam):\n",
    "    \n",
    "    initial_action = action(x_in, M2, lam)\n",
    "    \n",
    "    x_proposal = next_porposal(x_in)\n",
    "    \n",
    "    proposal_action = action(x_proposal, M2, lam)\n",
    "    \n",
    "    accept_probability = np.random.rand()\n",
    "\n",
    "    deltaS = proposal_action - initial_action\n",
    "    \n",
    "    if( np.exp(-deltaS) > accept_probability ):\n",
    "        x_next = x_proposal\n",
    "        accept = 1\n",
    "    else:\n",
    "        x_next = x_in\n",
    "        accept = 0\n",
    "        \n",
    "    return x_next, accept"
   ]
  },
  {
   "cell_type": "code",
   "execution_count": 61,
   "id": "48155426",
   "metadata": {},
   "outputs": [
    {
     "name": "stdout",
     "output_type": "stream",
     "text": [
      "Acceptance is 78.76357527150543 %\n",
      "Typically the optimal choice is around 60-70%\n"
     ]
    }
   ],
   "source": [
    "#choose parametrs\n",
    "M2 = -1.0\n",
    "lam = 8.0\n",
    "\n",
    "#Volume of the lattice, V = L1*L2:\n",
    "L1 = L2 = 5\n",
    "\n",
    "#Initial guess\n",
    "field = np.random.rand(L1,L2)\n",
    "acceptance = []\n",
    "\n",
    "\n",
    "configurations = [field]\n",
    "Nsteps = 50000\n",
    "\n",
    "for i in range(Nsteps-1):\n",
    "    last_field = configurations[-1]\n",
    "    new_field, accept =  metropolis_step(last_field, M2, lam)\n",
    "    configurations.append(new_field)\n",
    "    acceptance.append(accept)\n",
    "\n",
    "\n",
    "configurations = np.array(configurations)\n",
    "print(\"Acceptance is\", np.mean(acceptance)*100 , \"%\" )\n",
    "print(\"Typically the optimal choice is around 60-70%\")"
   ]
  },
  {
   "cell_type": "markdown",
   "id": "651ab690",
   "metadata": {},
   "source": [
    "We can plot a typical configuration using a heatmap"
   ]
  },
  {
   "cell_type": "code",
   "execution_count": 64,
   "id": "a6dd5f87",
   "metadata": {},
   "outputs": [
    {
     "data": {
      "image/png": "[encoded data removed]",
      "text/plain": [
       "<Figure size 432x288 with 2 Axes>"
      ]
     },
     "metadata": {
      "needs_background": "light"
     },
     "output_type": "display_data"
    },
    {
     "data": {
      "image/png": "[encoded data removed]",
      "text/plain": [
       "<Figure size 432x288 with 2 Axes>"
      ]
     },
     "metadata": {
      "needs_background": "light"
     },
     "output_type": "display_data"
    }
   ],
   "source": [
    "config1 = configurations[10000]\n",
    "config2 = configurations[40000]\n",
    "\n",
    "im = plt.imshow(config1, cmap='viridis', interpolation='nearest', vmin=-0.005, vmax=0.005)\n",
    "plt.colorbar(im, label='$\\phi$')\n",
    "plt.xlabel('$x_1$', fontsize=16, rotation=0, labelpad=15)\n",
    "plt.ylabel('$x_2$', fontsize=16, rotation=0, labelpad=15)\n",
    "plt.show()\n",
    "\n",
    "im2 = plt.imshow(config2, cmap='viridis', interpolation='nearest', vmin=-0.005, vmax=0.005)\n",
    "plt.colorbar(im2, label='$\\phi$')\n",
    "plt.xlabel('$x_1$', fontsize=16, rotation=0, labelpad=15)\n",
    "plt.ylabel('$x_2$', fontsize=16, rotation=0, labelpad=15)\n",
    "plt.show()\n"
   ]
  },
  {
   "cell_type": "markdown",
   "id": "ca30b956",
   "metadata": {},
   "source": [
    "### Exercises 1: Plot field configurations\n",
    "1. Plot configurations and plot some random gaussian noise. What do you observe?\n",
    "\n"
   ]
  },
  {
   "cell_type": "markdown",
   "id": "21c511cd",
   "metadata": {},
   "source": [
    "Let's evaluate a simple observable:\n",
    "$$\\langle O(\\phi) \\rangle =\\left\\langle  \\left| \\frac{1}{V}\\sum_{\\vec x} \\phi(\\vec x)|  \\right| \\right\\rangle$$"
   ]
  },
  {
   "cell_type": "code",
   "execution_count": 30,
   "id": "1ed80a8a",
   "metadata": {},
   "outputs": [],
   "source": [
    "#Evaluate a simple observable\n",
    "observable1 = abs(np.sum(configurations/(L1*L2), axis=(1,2)))\n",
    "\n"
   ]
  },
  {
   "cell_type": "code",
   "execution_count": 31,
   "id": "5294132c",
   "metadata": {},
   "outputs": [
    {
     "data": {
      "text/plain": [
       "[<matplotlib.lines.Line2D at 0x7fbe2bc06898>]"
      ]
     },
     "execution_count": 31,
     "metadata": {},
     "output_type": "execute_result"
    },
    {
     "data": {
      "image/png": "[encoded data removed]",
      "text/plain": [
       "<Figure size 432x288 with 1 Axes>"
      ]
     },
     "metadata": {
      "needs_background": "light"
     },
     "output_type": "display_data"
    }
   ],
   "source": [
    "fig, ax = plt.subplots()\n",
    "\n",
    "ax.set_ylabel(\"$x_i$\", fontsize=20,rotation=0)\n",
    "ax.set_xlabel(\"Monte Carlo Step\", fontsize=20,rotation=0)\n",
    "\n",
    "ax.plot(range(Nsteps), observable1, 'o' )\n"
   ]
  },
  {
   "cell_type": "markdown",
   "id": "d67bcd97",
   "metadata": {},
   "source": [
    "### Exercises 2: Tune your MCMC\n",
    "1. Explore the acceptance as a function of the lattice volume. If you keep the hyperparameter \"width\" constant, what happens to the acceptance?\n",
    "2. If you want to have a constant accept rate (approximately), how do you need to change the \"width\"? \n",
    "3. Make sure you choose a good thermalization point and truncate the chain for enough Metropolis steps\n"
   ]
  },
  {
   "cell_type": "code",
   "execution_count": null,
   "id": "67614fb0",
   "metadata": {},
   "outputs": [],
   "source": []
  },
  {
   "cell_type": "markdown",
   "id": "d9744135",
   "metadata": {},
   "source": [
    "### Exercises 3: Finite-volume effects\n",
    "1. Evaluate the observable and its error. Remember to account for thermalization, and also remember to include uncertainties. In order to deal with autocorrelations, you can either use \"binning\" or skip measurements like in the previous lecture.\n",
    "2. Perform various lattice simulations for fixed parameters (M2 = -1.0, lam = 8.0), but different volumes. (Don't go crazy, and just do up to L=10. If you use bigger volumes, it may be slow!)\n",
    "3. Compute the expectation value of the observable $ O(\\phi)  =   |\\frac{1}{V}\\sum_{\\vec x} \\phi(\\vec x)| $ for different volumes. \n",
    "4. Compare to the expectation in infinite volume for the symmetric phase, i.e. $\\lim_{V \\to \\inf} \\langle O(\\phi) \\rangle =0$\n",
    "\n"
   ]
  },
  {
   "cell_type": "code",
   "execution_count": null,
   "id": "898af56d",
   "metadata": {},
   "outputs": [],
   "source": []
  },
  {
   "cell_type": "markdown",
   "id": "19c299f8",
   "metadata": {},
   "source": [
    "### Exercises 4: Phase transition\n",
    "1. Now keep lam=8.0 fixed and choose one volume with less finite-volume effects (e.g L>6). For instance, change M2 in the range M2 $\\in [0, -15]$ in steps of 1 or 2.\n",
    "2. Plot the same observable \\langle O(\\phi) \\rangle as a function of M2. What do you notice?\n",
    "3. Bonus, increase the volume and repeat the exercise. What happens? Why?"
   ]
  },
  {
   "cell_type": "code",
   "execution_count": null,
   "id": "4adc242c",
   "metadata": {},
   "outputs": [],
   "source": []
  }
 ],
 "metadata": {
  "kernelspec": {
   "display_name": "Python 3",
   "language": "python",
   "name": "python3"
  },
  "language_info": {
   "codemirror_mode": {
    "name": "ipython",
    "version": 3
   },
   "file_extension": ".py",
   "mimetype": "text/x-python",
   "name": "python",
   "nbconvert_exporter": "python",
   "pygments_lexer": "ipython3",
   "version": "3.6.13"
  }
 },
 "nbformat": 4,
 "nbformat_minor": 5
}

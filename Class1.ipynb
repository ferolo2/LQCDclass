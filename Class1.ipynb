{
 "cells": [
  {
   "cell_type": "markdown",
   "id": "c79247e4",
   "metadata": {},
   "source": [
    "# Introduction to Monte Carlo Integration\n",
    "\n"
   ]
  },
  {
   "cell_type": "markdown",
   "id": "61b83aaf",
   "metadata": {},
   "source": [
    "Import useful packages"
   ]
  },
  {
   "cell_type": "code",
   "execution_count": 15,
   "id": "8c9fe11d",
   "metadata": {},
   "outputs": [],
   "source": [
    "import numpy as np\n",
    "import matplotlib.pyplot as plt"
   ]
  },
  {
   "cell_type": "markdown",
   "id": "53d83aa8",
   "metadata": {},
   "source": [
    "## First task: compute pi stochastically"
   ]
  },
  {
   "cell_type": "code",
   "execution_count": 275,
   "id": "34fcb198",
   "metadata": {},
   "outputs": [
    {
     "name": "stdout",
     "output_type": "stream",
     "text": [
      "[[ 0.40994733 -0.48751238]\n",
      " [-0.57828222 -0.4516534 ]\n",
      " [-0.3733558  -0.75182414]\n",
      " [-0.14947068  0.84326452]\n",
      " [ 0.85181231  0.55438193]\n",
      " [ 0.63547857  0.07300306]\n",
      " [ 0.82216194  0.39433887]\n",
      " [ 0.1641352  -0.82558178]\n",
      " [ 0.09113062  0.28089475]\n",
      " [ 0.62131099 -0.13744862]]\n"
     ]
    }
   ],
   "source": [
    "#As an example, this function generates 10 pairs of random numbers between 0 and 1.\n",
    "Npoints = 10\n",
    "data = np.random.rand(Npoints,2)\n",
    "\n",
    "#Rescale them to be between -1 and 1\n",
    "data = 2*data-1\n",
    "\n",
    "print(data)"
   ]
  },
  {
   "cell_type": "markdown",
   "id": "6bc871ad",
   "metadata": {},
   "source": [
    "Lets plot the data together with a circle"
   ]
  },
  {
   "cell_type": "code",
   "execution_count": 276,
   "id": "e83dcc77",
   "metadata": {},
   "outputs": [
    {
     "data": {
      "text/plain": [
       "[<matplotlib.lines.Line2D at 0x7fbac03982e8>]"
      ]
     },
     "execution_count": 276,
     "metadata": {},
     "output_type": "execute_result"
    },
    {
     "data": {
      "image/png": "[encoded data removed]",
      "text/plain": [
       "<Figure size 432x288 with 1 Axes>"
      ]
     },
     "metadata": {
      "needs_background": "light"
     },
     "output_type": "display_data"
    }
   ],
   "source": [
    "fig, ax = plt.subplots()\n",
    "\n",
    "#plot the data\n",
    "ax.plot(data[:,0], data[:,1], 'o' )\n",
    "\n",
    "#plot a circle\n",
    "phase = np.linspace(0, 2*np.pi, 100)\n",
    "ax.plot(np.cos(phase), np.sin(phase))"
   ]
  },
  {
   "cell_type": "markdown",
   "id": "bdbb29f2",
   "metadata": {},
   "source": [
    "An estimate of the area of the circle can be derived from the points inside versus points outside"
   ]
  },
  {
   "cell_type": "code",
   "execution_count": 277,
   "id": "36d5f427",
   "metadata": {},
   "outputs": [
    {
     "name": "stdout",
     "output_type": "stream",
     "text": [
      "Distance to the center [0.63696557 0.73375822 0.83942485 0.8564091  1.01632846 0.63965808\n",
      " 0.91184067 0.84173965 0.29530772 0.63633283]\n",
      "Inside? [1. 1. 1. 1. 0. 1. 1. 1. 1. 1.]\n",
      "Area inside the curve is 3.6 Analytical result is  3.141592653589793\n"
     ]
    }
   ],
   "source": [
    "#Compute the distance to the center\n",
    "mod = np.linalg.norm(data, axis=1)\n",
    "print(\"Distance to the center\", mod)\n",
    "\n",
    "#Which points are inside the circle?\n",
    "inside = 1.0*(mod < 1)\n",
    "print(\"Inside?\", inside)\n",
    "\n",
    "#Compute estimate of area\n",
    "# The area is ratio of points inside times area of the square\n",
    "total_area = 2**2 \n",
    "inside_area = np.sum(inside)/len(inside) * total_area\n",
    "print(\"Area inside the curve is\", inside_area, \"Analytical result is \", np.pi)"
   ]
  },
  {
   "cell_type": "markdown",
   "id": "70ca07f7",
   "metadata": {},
   "source": [
    "### Exercises 1:\n",
    "1. Compute pi more precisely, and plot the result as a function of the number of used samples. \n",
    "2. Compute an estimate of the statictical uncertainty. The statistical uncertainty can be derived from the standard deviation between the measurements of \"0\" or \"1\" (outside or inside).\n",
    "$$ {\\rm error}  = \\frac{\\rm std(data)}{\\sqrt{N_{\\rm samples}}}$$\n",
    "Add errors to the previous plot.\n",
    "3. Compute the volume of a sphere in a similar way with statistical uncertainties.\n",
    "\n"
   ]
  },
  {
   "cell_type": "code",
   "execution_count": null,
   "id": "396d3cca",
   "metadata": {},
   "outputs": [],
   "source": []
  },
  {
   "cell_type": "code",
   "execution_count": null,
   "id": "9dcfc4f4",
   "metadata": {},
   "outputs": [],
   "source": []
  },
  {
   "cell_type": "markdown",
   "id": "d807a22e",
   "metadata": {},
   "source": [
    "## Task 2: A Gaussian integral with the metropolis algorithm (0-D lattice scalar theory) "
   ]
  },
  {
   "cell_type": "markdown",
   "id": "600b5bba",
   "metadata": {},
   "source": [
    "Let us consider a probability distribution of the form $p = \\frac{1}{Z} e^{-x^2}$. This can be interpreted as a trivial 0-D scalar QFT. \n",
    "\n",
    "The goal is to compute \"correlation functions\", that is, observables of the form\n",
    "$$C = \\langle x^n \\rangle  = \\frac{1}{Z}\\int dx \\, x^n \\,  e^{-x^2},$$\n",
    "where we can consider $O=x^n$ to be our operator. \n",
    "\n",
    "Note that we need $n={\\rm even}$ to have nonzero values, because the theory has a $x \\to -x$ symmetry.\n",
    "\n",
    "We would like to this using the Metropolis-Hastings algorithm\n"
   ]
  },
  {
   "cell_type": "code",
   "execution_count": 278,
   "id": "ae6f6622",
   "metadata": {},
   "outputs": [],
   "source": [
    "#Auxiliary functions to make a metropolis step\n",
    "\n",
    "def action(x):\n",
    "    return x**2\n",
    "\n",
    "def next_porposal(x):    \n",
    "    delta = 2*np.random.rand() - 1 #random number between -1 and 1 \n",
    "    width = 0.7 # This is a tunable \"hyperparameter\"\n",
    "    return x + width*delta\n",
    "\n",
    "\n",
    "def metropolis_step(x_in):\n",
    "    \n",
    "    initial_action = action(x_in)\n",
    "    \n",
    "    x_proposal = next_porposal(x_in)\n",
    "    \n",
    "    proposal_action = action(x_proposal)\n",
    "    \n",
    "    accept_probability = np.random.rand()\n",
    "\n",
    "    deltaS = proposal_action - initial_action\n",
    "    \n",
    "    if( np.exp(-deltaS) > accept_probability ):\n",
    "        x_next = x_proposal\n",
    "        accept = 1\n",
    "    else:\n",
    "        x_next = x_in\n",
    "        accept = 0\n",
    "        \n",
    "    return x_next, accept #returns new sample and if it was accepted or not"
   ]
  },
  {
   "cell_type": "markdown",
   "id": "4c5b58b0",
   "metadata": {},
   "source": [
    "Let us build a Markov Chain by iterating Metropolis Steps"
   ]
  },
  {
   "cell_type": "code",
   "execution_count": 344,
   "id": "20fe5b24",
   "metadata": {},
   "outputs": [
    {
     "name": "stdout",
     "output_type": "stream",
     "text": [
      "Acceptance is 78.17817817817819 %\n",
      "Typically the optimal choice is around 60-70%\n"
     ]
    }
   ],
   "source": [
    "#Build a Markov Chain\n",
    "\n",
    "samples = [10.0]\n",
    "acceptance = []\n",
    "\n",
    "Nsteps = 1000\n",
    "\n",
    "for i in range(Nsteps-1): \n",
    "    \n",
    "    last_x = samples[-1]\n",
    "    xnew, accept = metropolis_step(last_x)\n",
    "    samples.append(xnew)\n",
    "    acceptance.append(accept)\n",
    "\n",
    "acceptance = np.array(acceptance)\n",
    "samples = np.array(samples)\n",
    "\n",
    "\n",
    "print(\"Acceptance is\", np.mean(acceptance)*100 , \"%\" )\n",
    "print(\"Typically the optimal choice is around 60-70%\")"
   ]
  },
  {
   "cell_type": "markdown",
   "id": "37cb20aa",
   "metadata": {},
   "source": [
    "Let us plot the Monte Carlo History. Depending of the initial guess, the chain amy require a number of steps to \"equilibrate\". In lattice QCD we call this \"Thermalization\". "
   ]
  },
  {
   "cell_type": "code",
   "execution_count": 293,
   "id": "b1c88a07",
   "metadata": {},
   "outputs": [
    {
     "data": {
      "text/plain": [
       "Text(0.5, 0, 'Monte Carlo Step')"
      ]
     },
     "execution_count": 293,
     "metadata": {},
     "output_type": "execute_result"
    },
    {
     "data": {
      "image/png": "[encoded data removed]",
      "text/plain": [
       "<Figure size 432x288 with 1 Axes>"
      ]
     },
     "metadata": {
      "needs_background": "light"
     },
     "output_type": "display_data"
    }
   ],
   "source": [
    "fig, ax = plt.subplots()\n",
    "\n",
    "ax.plot(range(Nsteps), samples, 'o' )\n",
    "ax.set_ylabel(\"$x_i$\", fontsize=20,rotation=0)\n",
    "ax.set_xlabel(\"Monte Carlo Step\", fontsize=20,rotation=0)\n"
   ]
  },
  {
   "cell_type": "markdown",
   "id": "9145e78d",
   "metadata": {},
   "source": [
    "The thermalization steps should be removed. If not, our observables will be biased. \n",
    "\n",
    "If we truncate the first few samples, the Monte Carlo history should lood like random numbers centered around zero."
   ]
  },
  {
   "cell_type": "code",
   "execution_count": 324,
   "id": "eaccf191",
   "metadata": {},
   "outputs": [
    {
     "data": {
      "text/plain": [
       "Text(0.5, 0, 'Monte Carlo Step')"
      ]
     },
     "execution_count": 324,
     "metadata": {},
     "output_type": "execute_result"
    },
    {
     "data": {
      "image/png": "[encoded data removed]",
      "text/plain": [
       "<Figure size 432x288 with 1 Axes>"
      ]
     },
     "metadata": {
      "needs_background": "light"
     },
     "output_type": "display_data"
    }
   ],
   "source": [
    "Ntherm = 400 #Remove the first Ntherm samples from the MCMC\n",
    "samples_thermalized = samples[Ntherm:]\n",
    "fig, ax = plt.subplots()\n",
    "\n",
    "ax.plot(range(len(samples_thermalized)), samples_thermalized, 'o' )\n",
    "ax.set_ylabel(\"$x_i$\", fontsize=20,rotation=0)\n",
    "ax.set_xlabel(\"Monte Carlo Step\", fontsize=20,rotation=0)"
   ]
  },
  {
   "cell_type": "markdown",
   "id": "b00e2788",
   "metadata": {},
   "source": [
    "If we plot the samples like a histogram, it should start looking like a Gaussian."
   ]
  },
  {
   "cell_type": "code",
   "execution_count": 345,
   "id": "096d9e64",
   "metadata": {},
   "outputs": [
    {
     "data": {
      "text/plain": [
       "(array([  7.,  14.,  14.,  40., 117., 138., 135.,  77.,  44.,  14.]),\n",
       " array([-2.51697445, -2.06298203, -1.60898961, -1.1549972 , -0.70100478,\n",
       "        -0.24701236,  0.20698006,  0.66097247,  1.11496489,  1.56895731,\n",
       "         2.02294973]),\n",
       " <BarContainer object of 10 artists>)"
      ]
     },
     "execution_count": 345,
     "metadata": {},
     "output_type": "execute_result"
    },
    {
     "data": {
      "image/png": "[encoded data removed]",
      "text/plain": [
       "<Figure size 432x288 with 1 Axes>"
      ]
     },
     "metadata": {
      "needs_background": "light"
     },
     "output_type": "display_data"
    }
   ],
   "source": [
    "plt.hist(samples_thermalized)"
   ]
  },
  {
   "cell_type": "markdown",
   "id": "077798e3",
   "metadata": {},
   "source": [
    "### Exercises 2.1:\n",
    "1. Play with the \"hyperparameter\" in the metropolis algorith, i.e. the \"width\". How does the acceptance dependend on the width?\n",
    "2. Play with the initial guess in the Markov Chain. What is a better choice?  \n"
   ]
  },
  {
   "cell_type": "markdown",
   "id": "a404d7cf",
   "metadata": {},
   "source": [
    "Now it's time to evaluate our observables, for instance: $\\langle x \\rangle$ and $\\langle x^2 \\rangle$. \n",
    "\n",
    "We know the analytical results, so that we can compare: $$ \\langle x \\rangle =0, \\quad \\langle x^2 \\rangle = 1/2 .$$"
   ]
  },
  {
   "cell_type": "code",
   "execution_count": 326,
   "id": "6528caa3",
   "metadata": {},
   "outputs": [
    {
     "name": "stdout",
     "output_type": "stream",
     "text": [
      "Our Monte Carlo estimate of <x> =  0.09452813178048465\n",
      "Our Monte Carlo estimate of <x^2> =  0.6188105654543339\n"
     ]
    }
   ],
   "source": [
    "observable1 = samples_thermalized\n",
    "print(\"Our Monte Carlo estimate of <x> = \",np.mean(observable1))\n",
    "observable2 = samples_thermalized**2\n",
    "print(\"Our Monte Carlo estimate of <x^2> = \",np.mean(observable2))"
   ]
  },
  {
   "cell_type": "markdown",
   "id": "28cee858",
   "metadata": {},
   "source": [
    "However, estimates without uncertainties are meaningless! Let us compute the uncertainty. \n",
    "\n",
    "First, the naive uncertainty, like in the first exercise:"
   ]
  },
  {
   "cell_type": "code",
   "execution_count": 334,
   "id": "d91ef875",
   "metadata": {},
   "outputs": [
    {
     "name": "stdout",
     "output_type": "stream",
     "text": [
      "<x> =  0.09452813178048465 +/- 0.031881943629491004 True answer is <x>=0 Sigmas away: 2.9649425668341474\n",
      "<x^2> =  0.6188105654543339 +/- 0.039245604025469075 True answer is <x^2>=0.5 Sigmas away: 3.0273598382440445\n"
     ]
    }
   ],
   "source": [
    "error_naive_obs1 = np.std(observable1)/np.sqrt(len(observable1))\n",
    "error_naive_obs2 = np.std(observable2)/np.sqrt(len(observable2))\n",
    "\n",
    "\n",
    "print(\"<x> = \", np.mean(observable1), \"+/-\", error_naive_obs1, \"True answer is <x>=0\", \"Sigmas away:\", np.mean(observable1)/error_naive_obs1 )\n",
    "print(\"<x^2> = \", np.mean(observable2), \"+/-\", error_naive_obs2, \"True answer is <x^2>=0.5\", \"Sigmas away:\", (np.mean(observable2)-1/2)/error_naive_obs2  )"
   ]
  },
  {
   "cell_type": "markdown",
   "id": "f3a9d43f",
   "metadata": {},
   "source": [
    "Depending on the choices of the Metropolis hyperparameter \"width\", the true answer may be many sigmas away very far from the Monte Carlo estimate. This is due to the so-called \"Autocorrelation\".\n",
    "\n",
    "In every Markov Chain, each new proposal depends on the previous one. Thus some \"memory\" of the previous sample is retained. In other words, two consecutive samples are not fully independent. In order to account for autocorrelation, we must perform several steps before saving the samples.\n",
    "\n",
    "Alternatively, we can measure every \"Nmeas\" samples."
   ]
  },
  {
   "cell_type": "code",
   "execution_count": 346,
   "id": "d807980e",
   "metadata": {},
   "outputs": [
    {
     "name": "stdout",
     "output_type": "stream",
     "text": [
      "<x> =  0.12064636904585507 +/- 0.11637859077505183 True answer is <x>=0 Sigmas away: 1.0366715066953545\n",
      "<x^2> =  0.42087483808755805 +/- 0.0996741921613989 True answer is <x^2>=0.5 Sigmas away: -0.7938380055723689\n"
     ]
    }
   ],
   "source": [
    "Nmeas = 20\n",
    "spaced_observable1 = observable1[::Nmeas]\n",
    "spaced_observable2 = observable2[::Nmeas]\n",
    "\n",
    "error_spaced_obs1 = np.std(spaced_observable1)/np.sqrt(len(spaced_observable1))\n",
    "error_spaced_obs2 = np.std(spaced_observable2)/np.sqrt(len(spaced_observable2))\n",
    "\n",
    "\n",
    "print(\"<x> = \", np.mean(spaced_observable1), \"+/-\", error_spaced_obs1, \"True answer is <x>=0\", \"Sigmas away:\", np.mean(spaced_observable1)/error_spaced_obs1 )\n",
    "print(\"<x^2> = \", np.mean(spaced_observable2), \"+/-\", error_spaced_obs2, \"True answer is <x^2>=0.5\", \"Sigmas away:\", (np.mean(spaced_observable2)-1/2)/error_spaced_obs2  )\n"
   ]
  },
  {
   "cell_type": "markdown",
   "id": "3d4d59e2",
   "metadata": {},
   "source": [
    "There are other (better) ways of deaaling with autocorrelation, but this is the simplest: \"Make sure your measurements have many Metropolis steps in between\". \n",
    "\n",
    "Another simple way of dealing with autocorrelation is the so-called binning procedure. For this, you average $N_{\\rm bin}$ measurements together, and then treat the binned observables as independent."
   ]
  },
  {
   "cell_type": "code",
   "execution_count": 343,
   "id": "bea73541",
   "metadata": {},
   "outputs": [
    {
     "name": "stdout",
     "output_type": "stream",
     "text": [
      "Nbin= 40\n",
      "<x> =  0.09452813178048461 +/- 0.12284180776720934 True answer is <x>=0 Sigmas away: 0.7695110768771786\n",
      "<x^2> =  0.6188105654543337 +/- 0.10917998633097532 True answer is <x^2>=1/2 Sigmas away: 1.0882082829188453\n"
     ]
    }
   ],
   "source": [
    "Nbin = 40\n",
    "assert len(observable1)%Nbin==0, \"Length of observable array is not divisible by Nbin\"\n",
    "\n",
    "binned_observable1 =  observable1.reshape(int(len(observable1)/Nbin), Nbin  )\n",
    "binned_observable1 = np.mean(binned_observable1, axis=1)\n",
    "binned_observable2 =  observable2.reshape(int(len(observable2)/Nbin), Nbin  )\n",
    "binned_observable2 = np.mean(binned_observable2, axis=1)\n",
    "\n",
    "error_binned_obs1 = np.std(binned_observable1)/np.sqrt(len(binned_observable1))\n",
    "error_binned_obs2 = np.std(binned_observable2)/np.sqrt(len(binned_observable2))\n",
    "\n",
    "\n",
    "\n",
    "\n",
    "print(\"Nbin=\", Nbin)\n",
    "print(\"<x> = \", np.mean(binned_observable1), \"+/-\", error_binned_obs1, \"True answer is <x>=0\", \"Sigmas away:\", np.mean(binned_observable1)/error_binned_obs1 )\n",
    "print(\"<x^2> = \", np.mean(binned_observable2), \"+/-\", error_binned_obs2, \"True answer is <x^2>=1/2\", \"Sigmas away:\", (np.mean(binned_observable2)-1/2)/error_binned_obs2 )\n",
    "\n",
    "\n",
    "\n"
   ]
  },
  {
   "cell_type": "markdown",
   "id": "7f32bfe5",
   "metadata": {},
   "source": [
    "### Exercises 2.2:\n",
    "1. Plot the error of some observables as a function of $N_{\\rm bin}$. The optimal choice should be in the region where there is a \"plateau\". That is, when increasing $N_{\\rm bin}$ does not lead to an increase in the error. \n",
    "\n"
   ]
  },
  {
   "cell_type": "markdown",
   "id": "1a468c74",
   "metadata": {},
   "source": [
    "### Exercises 2.3:\n",
    "1. Integrate another distribution, for instance:\n",
    "$$ p = \\frac{1}{Z}e^{-S(x)}, \\quad S(x) = x^2 + x^4 $$\n",
    "You could see this as an interacting $\\phi^4$ theory. Without the quartic term is like a \"free theory\".\n",
    "2. Generalize procedure to an action that depends on two variables:  \n",
    "$$S[x_1,x_2] = x_1^2 + x_2^2 + x_1^2 x_2^2$$\n",
    "and compute some observables, e.g. $\\langle x_1^n x_2^m \\rangle$\n",
    "You could see this second example as a 1D lattice scalar theory with two lattice points!"
   ]
  },
  {
   "cell_type": "code",
   "execution_count": 347,
   "id": "7a0a9472",
   "metadata": {},
   "outputs": [],
   "source": [
    "#Here's some help for exercise 2\n",
    "\n",
    "def action(x):\n",
    "    assert len(x)==2\n",
    "    return x[0]**2 + x[1]**2 + (x[0]*x[1])**2\n",
    "\n",
    "def next_porposal(x):    \n",
    "    delta = 2*np.random.rand(2) - 1 #two random numbers between -1 and 1 \n",
    "    width = 0.7\n",
    "    return x + width*delta\n"
   ]
  },
  {
   "cell_type": "code",
   "execution_count": null,
   "id": "d44e3347",
   "metadata": {},
   "outputs": [],
   "source": []
  },
  {
   "cell_type": "code",
   "execution_count": null,
   "id": "ebb4759b",
   "metadata": {},
   "outputs": [],
   "source": []
  }
 ],
 "metadata": {
  "kernelspec": {
   "display_name": "Python 3",
   "language": "python",
   "name": "python3"
  },
  "language_info": {
   "codemirror_mode": {
    "name": "ipython",
    "version": 3
   },
   "file_extension": ".py",
   "mimetype": "text/x-python",
   "name": "python",
   "nbconvert_exporter": "python",
   "pygments_lexer": "ipython3",
   "version": "3.6.13"
  }
 },
 "nbformat": 4,
 "nbformat_minor": 5
}
